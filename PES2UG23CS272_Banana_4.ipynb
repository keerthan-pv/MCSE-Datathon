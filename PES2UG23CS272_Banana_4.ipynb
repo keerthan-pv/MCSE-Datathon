{
  "nbformat": 4,
  "nbformat_minor": 0,
  "metadata": {
    "colab": {
      "provenance": []
    },
    "kernelspec": {
      "name": "python3",
      "display_name": "Python 3"
    },
    "language_info": {
      "name": "python"
    }
  },
  "cells": [
    {
      "cell_type": "code",
      "execution_count": 1,
      "metadata": {
        "colab": {
          "base_uri": "https://localhost:8080/"
        },
        "id": "4WWkESOJgTHD",
        "outputId": "a937b64c-8243-471d-daec-26ede2ceb292"
      },
      "outputs": [
        {
          "output_type": "stream",
          "name": "stdout",
          "text": [
            "Solution using np.linalg.solve: [2.2 3.6]\n"
          ]
        }
      ],
      "source": [
        "import numpy as np\n",
        "\n",
        "# Define matrix A and vector b\n",
        "A = np.array([[2, 1], [1, 3]])\n",
        "b = np.array([8, 13])\n",
        "\n",
        "# Solve Ax = b\n",
        "x = np.linalg.solve(A, b)\n",
        "print(\"Solution using np.linalg.solve:\", x)\n"
      ]
    },
    {
      "cell_type": "code",
      "source": [
        "x=np.linalg.solve(A,b)\n",
        "print(\"\\nSolution vector x:\")\n",
        "print(x)"
      ],
      "metadata": {
        "colab": {
          "base_uri": "https://localhost:8080/"
        },
        "id": "8x6TGIbmgzOR",
        "outputId": "ff89ecf4-e6d3-4d45-a216-c73f473fe7b1"
      },
      "execution_count": 3,
      "outputs": [
        {
          "output_type": "stream",
          "name": "stdout",
          "text": [
            "\n",
            "Solution vector x:\n",
            "[2.2 3.6]\n"
          ]
        }
      ]
    },
    {
      "cell_type": "code",
      "source": [
        "r=np.dot(A,x)-b\n",
        "print(\"\\nResidual vector r:\")\n",
        "print(r)"
      ],
      "metadata": {
        "colab": {
          "base_uri": "https://localhost:8080/"
        },
        "id": "vlzV3L1thzvD",
        "outputId": "a384e7c8-45bd-4775-b89f-bc4571d656ba"
      },
      "execution_count": 4,
      "outputs": [
        {
          "output_type": "stream",
          "name": "stdout",
          "text": [
            "\n",
            "Residual vector r:\n",
            "[0. 0.]\n"
          ]
        }
      ]
    },
    {
      "cell_type": "code",
      "source": [
        "import scipy.linalg\n",
        "P,L,U=scipy.linalg.lu(A)\n",
        "x1=np.linalg.solve(A,b)\n",
        "err1=np.dot(A,x1)-b\n",
        "print(\"Matrix P(Permutation matrix):\")\n",
        "print(P)\n",
        "print(\"\\nMatrix L(Lower triangular matrix):\")\n",
        "print(L)\n",
        "print(\"\\nMatrix U(Upper triangular matrix):\")\n",
        "print(U)\n",
        "print(\"\\nSolution vectorx1:\")\n",
        "print(x1)\n",
        "print(\"\\nError vector err1:\")\n",
        "print(err1)"
      ],
      "metadata": {
        "colab": {
          "base_uri": "https://localhost:8080/"
        },
        "id": "hIX_jtc2h_3C",
        "outputId": "571ecc72-6853-4b57-f331-c247cef2770a"
      },
      "execution_count": 5,
      "outputs": [
        {
          "output_type": "stream",
          "name": "stdout",
          "text": [
            "Matrix P(Permutation matrix):\n",
            "[[1. 0.]\n",
            " [0. 1.]]\n",
            "\n",
            "Matrix L(Lower triangular matrix):\n",
            "[[1.  0. ]\n",
            " [0.5 1. ]]\n",
            "\n",
            "Matrix U(Upper triangular matrix):\n",
            "[[2.  1. ]\n",
            " [0.  2.5]]\n",
            "\n",
            "Solution vectorx1:\n",
            "[2.2 3.6]\n",
            "\n",
            "Error vector err1:\n",
            "[0. 0.]\n"
          ]
        }
      ]
    },
    {
      "cell_type": "code",
      "source": [
        "y=np.linalg.lstsq(A,b,rcond=None)[0]\n",
        "print(\"\\nSolution vector y:\")\n",
        "print(y)"
      ],
      "metadata": {
        "colab": {
          "base_uri": "https://localhost:8080/"
        },
        "id": "xash17Qqi2Wl",
        "outputId": "c77ec98d-456e-4efa-af9e-c3cfcfa30e53"
      },
      "execution_count": 6,
      "outputs": [
        {
          "output_type": "stream",
          "name": "stdout",
          "text": [
            "\n",
            "Solution vector y:\n",
            "[2.2 3.6]\n"
          ]
        }
      ]
    },
    {
      "cell_type": "code",
      "source": [
        "A_inv=np.linalg.inv(A)\n",
        "x2=np.dot(A_inv,b)\n",
        "r2=np.dot(A,x2)-b\n",
        "err2=x-x2\n",
        "print(\"\\nSolution vector x2 using inverse:\")\n",
        "print(x2)\n",
        "print(\"\\nResidual vector r2:\")\n",
        "print(r2)\n",
        "print(\"\\nError vector err2:\")\n",
        "print(err2)"
      ],
      "metadata": {
        "colab": {
          "base_uri": "https://localhost:8080/"
        },
        "id": "bgGvU8-SjCoG",
        "outputId": "61a5ad51-ea30-4e80-c1c1-7f4e8959f91a"
      },
      "execution_count": 7,
      "outputs": [
        {
          "output_type": "stream",
          "name": "stdout",
          "text": [
            "\n",
            "Solution vector x2 using inverse:\n",
            "[2.2 3.6]\n",
            "\n",
            "Residual vector r2:\n",
            "[0. 0.]\n",
            "\n",
            "Error vector err2:\n",
            "[4.4408921e-16 0.0000000e+00]\n"
          ]
        }
      ]
    },
    {
      "cell_type": "code",
      "source": [
        "def rref(A):\n",
        "  A = A.astype(float)\n",
        "  m, n = A.shape\n",
        "  lead=0\n",
        "  for r in range(m):\n",
        "      if lead >= n:\n",
        "       break\n",
        "       if A[r,lead]==0:\n",
        "          for i in range(r+1,m):\n",
        "             if A[i,lead]!=0:\n",
        "               A[[r,i]]=A[[i,r]]\n",
        "               break\n",
        "       if A[r,lead]!=0:\n",
        "           A[r]=A[r]/A[r,lead]\n",
        "       for i in range(m):\n",
        "            if i!=r:\n",
        "               A[i]=A[i]-A[i,lead]*A[r]\n",
        "       lead+=1\n",
        "  return A"
      ],
      "metadata": {
        "id": "CSbyYeuNjldG"
      },
      "execution_count": 10,
      "outputs": []
    },
    {
      "cell_type": "code",
      "source": [
        "print(A)\n",
        "print(b)\n",
        "C=np.hstack((A,b.reshape(-1,1)))\n",
        "print(\"[A:B]vector\",C)\n",
        "R=rref(C)\n",
        "x3=R[:,-1]\n",
        "r3=np.dot(A,x3)-b\n",
        "err3=x-x3\n",
        "print(\"\\nSolution vector x3(from RREF):\")\n",
        "print(x3)\n",
        "print(\"\\nResidual vector r3(from RREF):\")\n",
        "print(r3)\n",
        "print(\"\\nError vector err3(difference between x and x3):\")\n",
        "print(err3)"
      ],
      "metadata": {
        "colab": {
          "base_uri": "https://localhost:8080/"
        },
        "id": "WmbvoBVzlm50",
        "outputId": "eb818c16-9d1b-4bfe-fad6-304c9d5c3e49"
      },
      "execution_count": 11,
      "outputs": [
        {
          "output_type": "stream",
          "name": "stdout",
          "text": [
            "[[2 1]\n",
            " [1 3]]\n",
            "[ 8 13]\n",
            "[A:B]vector [[ 2  1  8]\n",
            " [ 1  3 13]]\n",
            "\n",
            "Solution vector x3(from RREF):\n",
            "[ 8. 13.]\n",
            "\n",
            "Residual vector r3(from RREF):\n",
            "[21. 34.]\n",
            "\n",
            "Error vector err3(difference between x and x3):\n",
            "[-5.8 -9.4]\n"
          ]
        }
      ]
    },
    {
      "cell_type": "code",
      "source": [
        "import time\n",
        "start_time=time.time()\n",
        "x1=np.linalg.solve(A,b)\n",
        "end_time=time.time()\n",
        "time_backlash=end_time-start_time\n",
        "start_time=time.time()\n",
        "x2=np.linalg.inv(A)@ b\n",
        "end_time=time.time()\n",
        "time_inv=end_time-start_time\n",
        "start_time=time.time()\n",
        "C =np.hstack((A,b.reshape(-1,1)))\n",
        "R=rref(C)\n",
        "x3=R[:,-1]\n",
        "end_time=time.time()\n",
        "time_rref=end_time-start_time\n",
        "print(\"\\nSolution vector x1(using backlash operator):\")\n",
        "print(x1)\n",
        "print(\"\\nSolution vector x2(using matrix inverse):\")\n",
        "print(x2)\n",
        "print(\"\\nSolution vector x3(using reduced row echelon form):\")\n",
        "print(x3)\n",
        "print(\"\\nComputational times:\")\n",
        "print(f\"Backlash operator:{time_backlash}seconds\")\n",
        "print(f\"Matrix inverse:{time_inv}seconds\")\n",
        "print(f\"Reduced row echelon form (rref)):{time_rref}seconds\")"
      ],
      "metadata": {
        "colab": {
          "base_uri": "https://localhost:8080/"
        },
        "id": "ereV9y8lnNbx",
        "outputId": "4c2f4cdd-7ad0-4b91-a9f8-35640198dbe5"
      },
      "execution_count": 14,
      "outputs": [
        {
          "output_type": "stream",
          "name": "stdout",
          "text": [
            "\n",
            "Solution vector x1(using backlash operator):\n",
            "[2.2 3.6]\n",
            "\n",
            "Solution vector x2(using matrix inverse):\n",
            "[2.2 3.6]\n",
            "\n",
            "Solution vector x3(using reduced row echelon form):\n",
            "[ 8. 13.]\n",
            "\n",
            "Computational times:\n",
            "Backlash operator:0.00030517578125seconds\n",
            "Matrix inverse:0.00018548965454101562seconds\n",
            "Reduced row echelon form (rref)):0.0033025741577148438seconds\n"
          ]
        }
      ]
    },
    {
      "cell_type": "code",
      "source": [
        "import numpy as np\n",
        "A=np.array([[1,2,3],\n",
        "            [4,5,6],\n",
        "            [7,8,9],\n",
        "            [10,11,12]])\n",
        "b=np.array([1,3,5,7]).reshape(-1,1)\n",
        "x=np.linalg.lstsq(A,b,rcond=None)[0]\n",
        "r1=np.dot(A,x)-b\n",
        "print(\"\\nSolution vector x:\")\n",
        "print(x)\n",
        "print(\"\\nResidual vectorr1:\")\n",
        "print(r1)\n",
        "A_pinv=np.linalg.pinv(A)\n",
        "y=np.dot(A_pinv,b)\n",
        "r2=np.dot(A,y)-b\n",
        "print(\"\\nSolution vector y(from pseudoinverse):\")\n",
        "print(y)\n",
        "print(\"\\nResidual vector r2:\")\n",
        "print(r2)"
      ],
      "metadata": {
        "colab": {
          "base_uri": "https://localhost:8080/"
        },
        "id": "YiO_GJD7p8Qs",
        "outputId": "7660fc87-f05d-4f6a-e095-f6d07280c4d3"
      },
      "execution_count": 16,
      "outputs": [
        {
          "output_type": "stream",
          "name": "stdout",
          "text": [
            "\n",
            "Solution vector x:\n",
            "[[0.38888889]\n",
            " [0.22222222]\n",
            " [0.05555556]]\n",
            "\n",
            "Residual vectorr1:\n",
            "[[8.8817842e-16]\n",
            " [8.8817842e-16]\n",
            " [8.8817842e-16]\n",
            " [0.0000000e+00]]\n",
            "\n",
            "Solution vector y(from pseudoinverse):\n",
            "[[0.38888889]\n",
            " [0.22222222]\n",
            " [0.05555556]]\n",
            "\n",
            "Residual vector r2:\n",
            "[[ 1.55431223e-15]\n",
            " [-4.44089210e-16]\n",
            " [-2.66453526e-15]\n",
            " [-4.44089210e-15]]\n"
          ]
        }
      ]
    }
  ]
}