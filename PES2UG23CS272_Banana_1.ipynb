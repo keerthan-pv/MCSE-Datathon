{
 "cells": [
  {
   "cell_type": "code",
   "execution_count": 1,
   "metadata": {
    "colab": {
     "base_uri": "https://localhost:8080/"
    },
    "executionInfo": {
     "elapsed": 20,
     "status": "ok",
     "timestamp": 1740993123861,
     "user": {
      "displayName": "Srividhya M",
      "userId": "12118407086790503431"
     },
     "user_tz": -330
    },
    "id": "HybjAzSgRmTT",
    "outputId": "b5cabed0-3fcc-400f-f311-aee744cb6d12"
   },
   "outputs": [
    {
     "name": "stdout",
     "output_type": "stream",
     "text": [
      "Length of A: 3\n",
      "Length of B: 3\n"
     ]
    }
   ],
   "source": [
    "import numpy as np\n",
    "A = np.array([[1, 2, 3], [4, 5, 6], [7, 8, 9]])\n",
    "B = np.array([10, 11, 12])\n",
    "print(\"Length of A:\", len(A))\n",
    "print(\"Length of B:\", len(B))"
   ]
  },
  {
   "cell_type": "code",
   "execution_count": 2,
   "metadata": {
    "colab": {
     "base_uri": "https://localhost:8080/"
    },
    "executionInfo": {
     "elapsed": 43,
     "status": "ok",
     "timestamp": 1740993180816,
     "user": {
      "displayName": "Srividhya M",
      "userId": "12118407086790503431"
     },
     "user_tz": -330
    },
    "id": "m6nx0ntzRw-U",
    "outputId": "18c9c002-53e7-4a2a-af3f-ab2641dedd28"
   },
   "outputs": [
    {
     "name": "stdout",
     "output_type": "stream",
     "text": [
      "Matrix C:\n",
      " [[ 1  2  3]\n",
      " [ 4  5  6]\n",
      " [ 7  8  9]\n",
      " [10 11 12]]\n"
     ]
    }
   ],
   "source": [
    "C = np.vstack([A, B])\n",
    "print(\"Matrix C:\\n\", C)"
   ]
  },
  {
   "cell_type": "code",
   "execution_count": 3,
   "metadata": {
    "colab": {
     "base_uri": "https://localhost:8080/"
    },
    "executionInfo": {
     "elapsed": 21,
     "status": "ok",
     "timestamp": 1740993194918,
     "user": {
      "displayName": "Srividhya M",
      "userId": "12118407086790503431"
     },
     "user_tz": -330
    },
    "id": "1JdQLclxR8Io",
    "outputId": "517cd7b3-9f17-464b-a681-36604a6869d6"
   },
   "outputs": [
    {
     "name": "stdout",
     "output_type": "stream",
     "text": [
      "Matrix D:\n",
      " [[ 6]\n",
      " [ 9]\n",
      " [12]]\n"
     ]
    }
   ],
   "source": [
    "D = C[1:4, 2:]\n",
    "print(\"Matrix D:\\n\", D)"
   ]
  },
  {
   "cell_type": "code",
   "execution_count": 4,
   "metadata": {
    "colab": {
     "base_uri": "https://localhost:8080/"
    },
    "executionInfo": {
     "elapsed": 21,
     "status": "ok",
     "timestamp": 1740993227276,
     "user": {
      "displayName": "Srividhya M",
      "userId": "12118407086790503431"
     },
     "user_tz": -330
    },
    "id": "BnPU8M5uSD_-",
    "outputId": "accfad9a-a20f-4695-e2d0-4b8321cd19e2"
   },
   "outputs": [
    {
     "name": "stdout",
     "output_type": "stream",
     "text": [
      "Matrix E (Transpose of D):\n",
      " [[ 6  9 12]]\n"
     ]
    }
   ],
   "source": [
    "E = D.T\n",
    "print(\"Matrix E (Transpose of D):\\n\", E)\n"
   ]
  },
  {
   "cell_type": "code",
   "execution_count": 5,
   "metadata": {
    "colab": {
     "base_uri": "https://localhost:8080/"
    },
    "executionInfo": {
     "elapsed": 10,
     "status": "ok",
     "timestamp": 1740993242316,
     "user": {
      "displayName": "Srividhya M",
      "userId": "12118407086790503431"
     },
     "user_tz": -330
    },
    "id": "5kexkcPTSHml",
    "outputId": "ffc2883b-24bc-4ca3-c76b-f6e6ee954ff2"
   },
   "outputs": [
    {
     "name": "stdout",
     "output_type": "stream",
     "text": [
      "Size of E: (1, 3)\n"
     ]
    }
   ],
   "source": [
    "print(\"Size of E:\", np.shape(E))"
   ]
  },
  {
   "cell_type": "code",
   "execution_count": 6,
   "metadata": {
    "colab": {
     "base_uri": "https://localhost:8080/"
    },
    "executionInfo": {
     "elapsed": 12,
     "status": "ok",
     "timestamp": 1740993260034,
     "user": {
      "displayName": "Srividhya M",
      "userId": "12118407086790503431"
     },
     "user_tz": -330
    },
    "id": "haXcwqJCSKvk",
    "outputId": "a31a271c-3e91-46ef-b67f-c09370fccb39"
   },
   "outputs": [
    {
     "name": "stdout",
     "output_type": "stream",
     "text": [
      "Equally spaced vectors:\n",
      " [ 0.   2.5  5.   7.5 10. ] \n",
      " [  1.  12.  23.  34.  45.  56.  67.  78.  89. 100.]\n"
     ]
    }
   ],
   "source": [
    "vector1 = np.linspace(0, 10, 5)\n",
    "vector2 = np.linspace(1, 100, 10)\n",
    "print(\"Equally spaced vectors:\\n\", vector1, \"\\n\", vector2)\n"
   ]
  },
  {
   "cell_type": "code",
   "execution_count": 7,
   "metadata": {
    "colab": {
     "base_uri": "https://localhost:8080/"
    },
    "executionInfo": {
     "elapsed": 12,
     "status": "ok",
     "timestamp": 1740993277442,
     "user": {
      "displayName": "Srividhya M",
      "userId": "12118407086790503431"
     },
     "user_tz": -330
    },
    "id": "iBARgpjDSPr8",
    "outputId": "9f390d93-5b04-40be-c991-dcb9e48646c3"
   },
   "outputs": [
    {
     "name": "stdout",
     "output_type": "stream",
     "text": [
      "Max in each column of A: [7 8 9]\n",
      "Min in each column of A: [1 2 3]\n"
     ]
    }
   ],
   "source": [
    "print(\"Max in each column of A:\", np.max(A, axis=0))\n",
    "print(\"Min in each column of A:\", np.min(A, axis=0))"
   ]
  },
  {
   "cell_type": "code",
   "execution_count": 8,
   "metadata": {
    "colab": {
     "base_uri": "https://localhost:8080/"
    },
    "executionInfo": {
     "elapsed": 11,
     "status": "ok",
     "timestamp": 1740993290650,
     "user": {
      "displayName": "Srividhya M",
      "userId": "12118407086790503431"
     },
     "user_tz": -330
    },
    "id": "_-FcKuV8STqE",
    "outputId": "42d56731-ad0a-4e43-eb66-f801fd4b9e5d"
   },
   "outputs": [
    {
     "name": "stdout",
     "output_type": "stream",
     "text": [
      "Max in each row of A: [3 6 9]\n",
      "Min in each row of A: [1 4 7]\n"
     ]
    }
   ],
   "source": [
    "print(\"Max in each row of A:\", np.max(A, axis=1))\n",
    "print(\"Min in each row of A:\", np.min(A, axis=1))\n"
   ]
  },
  {
   "cell_type": "code",
   "execution_count": 9,
   "metadata": {
    "colab": {
     "base_uri": "https://localhost:8080/"
    },
    "executionInfo": {
     "elapsed": 30,
     "status": "ok",
     "timestamp": 1740993304845,
     "user": {
      "displayName": "Srividhya M",
      "userId": "12118407086790503431"
     },
     "user_tz": -330
    },
    "id": "eTeX333zSXJg",
    "outputId": "35230a10-53b5-4784-d261-e78022611523"
   },
   "outputs": [
    {
     "name": "stdout",
     "output_type": "stream",
     "text": [
      "Mean in each column of A: [4. 5. 6.]\n",
      "Mean in each row of A: [2. 5. 8.]\n",
      "Sum in each column of A: [12 15 18]\n",
      "Sum in each row of A: [ 6 15 24]\n"
     ]
    }
   ],
   "source": [
    "print(\"Mean in each column of A:\", np.mean(A, axis=0))\n",
    "print(\"Mean in each row of A:\", np.mean(A, axis=1))\n",
    "print(\"Sum in each column of A:\", np.sum(A, axis=0))\n",
    "print(\"Sum in each row of A:\", np.sum(A, axis=1))\n"
   ]
  },
  {
   "cell_type": "code",
   "execution_count": 10,
   "metadata": {
    "colab": {
     "base_uri": "https://localhost:8080/"
    },
    "executionInfo": {
     "elapsed": 11,
     "status": "ok",
     "timestamp": 1740993316558,
     "user": {
      "displayName": "Srividhya M",
      "userId": "12118407086790503431"
     },
     "user_tz": -330
    },
    "id": "hgg4_NBiSZ9B",
    "outputId": "113ca7ac-a896-4775-8d05-62585cb97b5b"
   },
   "outputs": [
    {
     "name": "stdout",
     "output_type": "stream",
     "text": [
      "Matrix F:\n",
      " [[8 5 9]\n",
      " [9 4 5]\n",
      " [9 1 9]]\n",
      "Matrix G:\n",
      " [[1 3 6]\n",
      " [5 7 7]\n",
      " [1 7 9]]\n"
     ]
    }
   ],
   "source": [
    "F = np.random.randint(1, 10, (3, 3))\n",
    "G = np.random.randint(1, 10, (3, 3))\n",
    "print(\"Matrix F:\\n\", F)\n",
    "print(\"Matrix G:\\n\", G)\n"
   ]
  },
  {
   "cell_type": "code",
   "execution_count": 12,
   "metadata": {
    "colab": {
     "base_uri": "https://localhost:8080/"
    },
    "executionInfo": {
     "elapsed": 8,
     "status": "ok",
     "timestamp": 1740993473837,
     "user": {
      "displayName": "Srividhya M",
      "userId": "12118407086790503431"
     },
     "user_tz": -330
    },
    "id": "2hdodxSbSiat",
    "outputId": "35cc015f-b8bd-4c81-9ac7-07e57db3c1f9"
   },
   "outputs": [
    {
     "name": "stdout",
     "output_type": "stream",
     "text": [
      "F * scalar:\n",
      " [[16 10 18]\n",
      " [18  8 10]\n",
      " [18  2 18]]\n",
      "F + G:\n",
      " [[ 9  8 15]\n",
      " [14 11 12]\n",
      " [10  8 18]]\n",
      "F - G:\n",
      " [[ 7  2  3]\n",
      " [ 4 -3 -2]\n",
      " [ 8 -6  0]]\n",
      "Element-wise multiplication:\n",
      " [[ 8 15 54]\n",
      " [45 28 35]\n",
      " [ 9  7 81]]\n"
     ]
    }
   ],
   "source": [
    "scalar = 2\n",
    "print(\"F * scalar:\\n\", F * scalar)\n",
    "print(\"F + G:\\n\", F + G)\n",
    "print(\"F - G:\\n\", F - G)\n",
    "print(\"Element-wise multiplication:\\n\", np.multiply(F, G))"
   ]
  },
  {
   "cell_type": "code",
   "execution_count": 13,
   "metadata": {
    "colab": {
     "base_uri": "https://localhost:8080/"
    },
    "executionInfo": {
     "elapsed": 11,
     "status": "ok",
     "timestamp": 1740993489067,
     "user": {
      "displayName": "Srividhya M",
      "userId": "12118407086790503431"
     },
     "user_tz": -330
    },
    "id": "3CuGDOUsTDZn",
    "outputId": "c17c3f2c-bf7d-4bcb-f203-d89e5796949e"
   },
   "outputs": [
    {
     "name": "stdout",
     "output_type": "stream",
     "text": [
      "Matrix multiplication of F and A:\n",
      " [[ 91 113 135]\n",
      " [ 60  78  96]\n",
      " [ 76  95 114]]\n"
     ]
    }
   ],
   "source": [
    "if F.shape[1] == A.shape[0]:\n",
    "    print(\"Matrix multiplication of F and A:\\n\", np.dot(F, A))\n",
    "else:\n",
    "    print(\"Matrix multiplication not possible due to incompatible dimensions.\")\n"
   ]
  },
  {
   "cell_type": "code",
   "execution_count": 14,
   "metadata": {
    "executionInfo": {
     "elapsed": 6,
     "status": "ok",
     "timestamp": 1740993506089,
     "user": {
      "displayName": "Srividhya M",
      "userId": "12118407086790503431"
     },
     "user_tz": -330
    },
    "id": "37IjBfL2TG_G"
   },
   "outputs": [],
   "source": [
    "identity_matrix = np.eye(3)\n",
    "zero_matrix = np.zeros((5, 3))\n",
    "one_matrix = np.ones((4, 2))\n",
    "diagonal_matrix = np.diag([1, 2, 7])\n",
    "random_matrix = np.random.randint(1, 10, (6, 6))\n",
    "diagonal_elements = np.diag(random_matrix)\n",
    "sparse_diagonal = np.diag([5, 10, 15])\n",
    "dense_matrix = sparse_diagonal.astype(float)"
   ]
  },
  {
   "cell_type": "code",
   "execution_count": 15,
   "metadata": {
    "colab": {
     "base_uri": "https://localhost:8080/"
    },
    "executionInfo": {
     "elapsed": 31,
     "status": "ok",
     "timestamp": 1740993519527,
     "user": {
      "displayName": "Srividhya M",
      "userId": "12118407086790503431"
     },
     "user_tz": -330
    },
    "id": "ZwE6Nx4zTLw_",
    "outputId": "ce20b04b-993d-49a6-a10a-a7714b545b4b"
   },
   "outputs": [
    {
     "name": "stdout",
     "output_type": "stream",
     "text": [
      "Identity Matrix:\n",
      " [[1. 0. 0.]\n",
      " [0. 1. 0.]\n",
      " [0. 0. 1.]]\n",
      "Zero Matrix:\n",
      " [[0. 0. 0.]\n",
      " [0. 0. 0.]\n",
      " [0. 0. 0.]\n",
      " [0. 0. 0.]\n",
      " [0. 0. 0.]]\n",
      "One Matrix:\n",
      " [[1. 1.]\n",
      " [1. 1.]\n",
      " [1. 1.]\n",
      " [1. 1.]]\n",
      "Diagonal Matrix:\n",
      " [[1 0 0]\n",
      " [0 2 0]\n",
      " [0 0 7]]\n",
      "Extracted Diagonal Elements:\n",
      " [6 7 5 3 8 4]\n",
      "Sparse Diagonal Matrix:\n",
      " [[ 5  0  0]\n",
      " [ 0 10  0]\n",
      " [ 0  0 15]]\n",
      "Dense Matrix from Sparse:\n",
      " [[ 5.  0.  0.]\n",
      " [ 0. 10.  0.]\n",
      " [ 0.  0. 15.]]\n"
     ]
    }
   ],
   "source": [
    "print(\"Identity Matrix:\\n\", identity_matrix)\n",
    "print(\"Zero Matrix:\\n\", zero_matrix)\n",
    "print(\"One Matrix:\\n\", one_matrix)\n",
    "print(\"Diagonal Matrix:\\n\", diagonal_matrix)\n",
    "print(\"Extracted Diagonal Elements:\\n\", diagonal_elements)\n",
    "print(\"Sparse Diagonal Matrix:\\n\", sparse_diagonal)\n",
    "print(\"Dense Matrix from Sparse:\\n\", dense_matrix)\n"
   ]
  }
 ],
 "metadata": {
  "colab": {
   "authorship_tag": "ABX9TyPdzFeab0TEQj6oKRfcYeGG",
   "provenance": []
  },
  "kernelspec": {
   "display_name": "Python 3",
   "name": "python3"
  },
  "language_info": {
   "name": "python"
  }
 },
 "nbformat": 4,
 "nbformat_minor": 0
}
