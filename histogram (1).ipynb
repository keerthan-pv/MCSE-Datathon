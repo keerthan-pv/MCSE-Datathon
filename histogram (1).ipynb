{
 "cells": [
  {
   "cell_type": "code",
   "execution_count": 13,
   "metadata": {},
   "outputs": [
    {
     "data": {
      "image/png": "[encoded data removed]",
      "text/plain": [
       "<Figure size 640x480 with 1 Axes>"
      ]
     },
     "metadata": {},
     "output_type": "display_data"
    }
   ],
   "source": [
    "import matplotlib.pyplot as plt\n",
    "import numpy as np\n",
    "\n",
    "x = np.random.normal(170, 10, 250)\n",
    "plt.hist(x)\n",
    "plt.show()"
   ]
  },
  {
   "cell_type": "code",
   "execution_count": 12,
   "metadata": {},
   "outputs": [
    {
     "ename": "SyntaxError",
     "evalue": "invalid character '’' (U+2019) (1340441922.py, line 2)",
     "output_type": "error",
     "traceback": [
      "\u001b[1;36m  Cell \u001b[1;32mIn[12], line 2\u001b[1;36m\u001b[0m\n\u001b[1;33m    weights=None, cumulative=False, bottom=None, histtype=’bar’, align=’mid’,\u001b[0m\n\u001b[1;37m                                                          ^\u001b[0m\n\u001b[1;31mSyntaxError\u001b[0m\u001b[1;31m:\u001b[0m invalid character '’' (U+2019)\n"
     ]
    }
   ],
   "source": [
    "Syntax: matplotlib.pyplot.hist(x, bins=None, range=None, density=False,\n",
    "                               weights=None, cumulative=False, bottom=None, histtype=’bar’, align=’mid’, \n",
    "                               orientation=’vertical’, rwidth=None, log=False, color=None, label=None,\n",
    "                               stacked=False, \\*, data=None, \\*\\*kwargs)\n",
    "\n",
    "Parameters: This method accept the following parameters that are described below:\n",
    "\n",
    "x : This parameter are the sequence of data.\n",
    "bins : This parameter is an optional parameter and \n",
    "    it contains the integer or sequence or string.\n",
    "    \n",
    "range : This parameter is an optional parameter and\n",
    "    it the lower and upper range of the bins.\n",
    "    \n",
    "density : This parameter is an optional parameter and\n",
    "    it contains the boolean values.\n",
    "    \n",
    "weights : This parameter is an optional parameter and \n",
    "    it is an array of weights, of the same shape as x.\n",
    "    \n",
    "bottom : This parameter is the location of the bottom baseline\n",
    "    of each bin.\n",
    "histtype : This parameter is an optional parameter and\n",
    "    it is used to draw type of histogram.\n",
    "    {‘bar’, ‘barstacked’, ‘step’, ‘stepfilled’}\n",
    "    \n",
    "align : This parameter is an optional parameter and\n",
    "    it controls how the histogram is plotted.\n",
    "    {‘left’, ‘mid’, ‘right’}\n",
    "    \n",
    "rwidth : This parameter is an optional parameter and \n",
    "    it is a relative width of the bars \n",
    "    as a fraction of the bin width\n",
    "    \n",
    "log : This parameter is an optional parameter and \n",
    "    it is used to set histogram axis to a log scale\n",
    "    \n",
    "color : This parameter is an optional parameter and \n",
    "    it is a color spec or sequence of color specs, \n",
    "    one per dataset.\n",
    "    \n",
    "label : This parameter is an optional parameter and \n",
    "    it is a string, or sequence of strings \n",
    "    to match multiple datasets.\n",
    "    \n",
    "normed : This parameter is an optional parameter and \n",
    "    it contains the boolean values.\n",
    "    It uses the density keyword argument instead.\n",
    "    \n",
    "    Returns:\n",
    "        n :This returns the values of the histogram bins.\n",
    "bins :This returns the edges of the bins.\n",
    "patches :This returns the list of individual patches used to \n",
    "    create the histogram."
   ]
  },
  {
   "cell_type": "code",
   "execution_count": 14,
   "metadata": {},
   "outputs": [
    {
     "data": {
      "text/plain": [
       "array([172.61402752, 163.71635229, 192.70513698, 185.12956195,\n",
       "       168.37198835, 158.39565397, 180.8408969 , 171.11935329,\n",
       "       170.85978139, 167.0746362 , 178.72235298, 170.00196338,\n",
       "       162.58933382, 180.6696122 , 170.96099488, 178.20041884,\n",
       "       167.79928775, 169.13820528, 177.92295258, 176.27800341,\n",
       "       173.69839349, 163.80766614, 146.20848892, 171.19224327,\n",
       "       184.82162767, 169.49789109, 165.62956319, 174.78027568,\n",
       "       166.63872252, 162.63934214, 152.299224  , 161.40894537,\n",
       "       167.36837174, 178.11173462, 170.1411793 , 163.33298728,\n",
       "       154.63376026, 175.36383232, 168.62964015, 176.27214925,\n",
       "       160.2091401 , 174.91271121, 181.64027542, 164.64901984,\n",
       "       178.03793212, 167.35769898, 159.17703229, 158.68015712,\n",
       "       190.11699913, 159.45049406, 159.95806991, 162.17629097,\n",
       "       139.49214793, 160.61077673, 168.26023241, 180.54543806,\n",
       "       155.16883858, 173.44475697, 176.32019163, 172.76447592,\n",
       "       164.36801006, 144.42504397, 160.68351423, 170.51472826,\n",
       "       159.15720432, 171.79049938, 171.9734903 , 179.39838426,\n",
       "       160.47844453, 154.29030865, 179.90687083, 178.02285885,\n",
       "       159.86469826, 173.79701015, 170.86329106, 180.01640871,\n",
       "       158.05634051, 169.02776632, 176.14927118, 176.85299133,\n",
       "       174.26334271, 174.44067462, 168.42834798, 172.89910068,\n",
       "       166.83481239, 147.84328795, 169.72552344, 176.30108503,\n",
       "       176.3036466 , 179.84252569, 179.00573659, 144.06025161,\n",
       "       172.57947863, 168.36302795, 159.2177765 , 163.13790212,\n",
       "       153.69228214, 163.88238015, 173.56023559, 179.24713028,\n",
       "       154.84626918, 164.84705059, 189.12959626, 175.12491146,\n",
       "       183.20443563, 180.22615149, 170.47213891, 172.60223886,\n",
       "       168.3538746 , 152.14312268, 175.68117539, 171.79390491,\n",
       "       193.85198086, 159.57070659, 167.0136785 , 182.26096913,\n",
       "       182.56371769, 151.50747361, 173.09858991, 169.00137633,\n",
       "       159.08539599, 160.21662132, 164.90918836, 170.42717857,\n",
       "       155.72206243, 157.35844187, 158.4361845 , 161.01388528,\n",
       "       166.67231971, 187.91304679, 167.3007266 , 182.02418928,\n",
       "       170.39485272, 186.53803607, 162.77045169, 183.25850732,\n",
       "       170.10992463, 168.58449746, 171.46485843, 182.30305951,\n",
       "       163.94395048, 189.76064563, 181.309949  , 164.15811974,\n",
       "       166.91895084, 185.7500342 , 176.64690776, 174.4693134 ,\n",
       "       177.93327467, 153.46152045, 162.92917445, 143.7416238 ,\n",
       "       179.75880042, 173.03730819, 184.34960871, 185.68940813,\n",
       "       197.37085561, 162.6715539 , 189.23759709, 165.67097569,\n",
       "       193.33964124, 167.13651856, 164.59694766, 148.94143919,\n",
       "       170.52473175, 160.60111112, 168.83847441, 174.81953701,\n",
       "       181.76540817, 177.24851654, 168.02854967, 158.16907578,\n",
       "       180.24615599, 170.48051097, 161.63240992, 167.32564426,\n",
       "       178.05224165, 183.00748094, 173.30971426, 166.02343114,\n",
       "       166.15194159, 178.42926682, 159.7761793 , 163.91560746,\n",
       "       174.53867093, 176.0618019 , 177.26417383, 167.64620735,\n",
       "       166.45606099, 161.57958736, 163.60609065, 187.61903628,\n",
       "       174.04495194, 172.71531945, 154.65315963, 188.74741509,\n",
       "       165.36737923, 171.25240443, 183.09118444, 177.88567872,\n",
       "       166.24837135, 174.7937952 , 168.76368099, 156.15918759,\n",
       "       182.34300993, 178.11693265, 180.73778691, 184.93683228,\n",
       "       180.2105635 , 156.13414953, 158.08211245, 154.92119372,\n",
       "       156.96324238, 156.76192212, 185.28794536, 167.24246966,\n",
       "       167.53374028, 180.81132796, 180.1826692 , 168.86991653,\n",
       "       161.22706642, 178.93903171, 174.71986585, 175.79586171,\n",
       "       162.87436428, 178.21952974, 165.9742556 , 144.92821316,\n",
       "       181.75657418, 171.79323221, 161.30596929, 170.21006195,\n",
       "       166.12065271, 159.63197653, 176.51577719, 174.5632644 ,\n",
       "       164.82071637, 175.47200434, 164.07184731, 175.36835374,\n",
       "       167.76393561, 161.18359481, 167.76782105, 164.26575192,\n",
       "       169.01314783, 177.16401685, 166.57017379, 188.11691775,\n",
       "       169.22268197, 167.26531353])"
      ]
     },
     "execution_count": 14,
     "metadata": {},
     "output_type": "execute_result"
    }
   ],
   "source": [
    "x"
   ]
  },
  {
   "cell_type": "code",
   "execution_count": 20,
   "metadata": {},
   "outputs": [
    {
     "data": {
      "image/png": "[encoded data removed]",
      "text/plain": [
       "<Figure size 640x480 with 1 Axes>"
      ]
     },
     "metadata": {},
     "output_type": "display_data"
    }
   ],
   "source": [
    "import numpy as np\n",
    "import matplotlib.pyplot as plt\n",
    "x = [21,22,23,4,5,6,77,8,9,10,31,32,33,34,35,36,37,18,49,50,100]\n",
    "n_bins = 10     #no of bins \n",
    "#patches is the specifics of histogram diagram measurements\n",
    "bin_heights, bins, patches = plt.hist(x,bins=10, facecolor='cyan')\n",
    "plt.show()"
   ]
  },
  {
   "cell_type": "code",
   "execution_count": 9,
   "metadata": {},
   "outputs": [
    {
     "data": {
      "text/plain": [
       "array([ 6.,  4.,  2.,  5.,  2.,  0.,  0.,  1.,  0.,  1.])"
      ]
     },
     "execution_count": 9,
     "metadata": {},
     "output_type": "execute_result"
    }
   ],
   "source": [
    "bin_heights"
   ]
  },
  {
   "cell_type": "code",
   "execution_count": 10,
   "metadata": {},
   "outputs": [
    {
     "data": {
      "text/plain": [
       "array([   4. ,   13.6,   23.2,   32.8,   42.4,   52. ,   61.6,   71.2,\n",
       "         80.8,   90.4,  100. ])"
      ]
     },
     "execution_count": 10,
     "metadata": {},
     "output_type": "execute_result"
    }
   ],
   "source": [
    "bins"
   ]
  },
  {
   "cell_type": "code",
   "execution_count": 14,
   "metadata": {},
   "outputs": [
    {
     "name": "stdout",
     "output_type": "stream",
     "text": [
      "Rectangle(4,0;9.6x6)\n"
     ]
    }
   ],
   "source": [
    "print(patches[0])"
   ]
  },
  {
   "cell_type": "code",
   "execution_count": 20,
   "metadata": {},
   "outputs": [
    {
     "data": {
      "image/png": "[encoded data removed]",
      "text/plain": [
       "<matplotlib.figure.Figure at 0x147de8e5160>"
      ]
     },
     "metadata": {},
     "output_type": "display_data"
    }
   ],
   "source": [
    "#to create unequally sized bins\n",
    "\n",
    "n_bins = [10, 30, 40, 50,80,90]     #bin values\n",
    "bin_heights, bins, patches = plt.hist(x, n_bins, facecolor='red')\n",
    "plt.show()\n"
   ]
  },
  {
   "cell_type": "code",
   "execution_count": 27,
   "metadata": {},
   "outputs": [
    {
     "data": {
      "image/png": "[encoded data removed]",
      "text/plain": [
       "<matplotlib.figure.Figure at 0x1b91222aef0>"
      ]
     },
     "metadata": {},
     "output_type": "display_data"
    }
   ],
   "source": [
    "#cumulative histogram -> sets the bin height as, plotted_bin(n) = actual_bin(n) + plotted_bin(n-1) for all bins\n",
    "plt.hist(x, cumulative=True, facecolor='red')\n",
    "plt.show()"
   ]
  },
  {
   "cell_type": "code",
   "execution_count": 25,
   "metadata": {},
   "outputs": [
    {
     "data": {
      "image/png": "[encoded data removed]",
      "text/plain": [
       "<matplotlib.figure.Figure at 0x1b913342898>"
      ]
     },
     "metadata": {},
     "output_type": "display_data"
    }
   ],
   "source": [
    "import numpy as np\n",
    "\n",
    "import matplotlib.pyplot as plt\n",
    "\n",
    "x = [21,22,23,4,5,6,77,8,9,10,31,32,33,34,35,36,37,18,49,50,100]\n",
    "num_bins = 5\n",
    "#n, bins, patches = plt.hist(x, num_bins, facecolor='blue', alpha=0.5)\n",
    "plt.hist(x, num_bins, facecolor='blue', alpha=0.5)\n",
    "plt.show()"
   ]
  },
  {
   "cell_type": "code",
   "execution_count": 23,
   "metadata": {},
   "outputs": [
    {
     "data": {
      "image/png": "[encoded data removed]",
      "text/plain": [
       "<matplotlib.figure.Figure at 0x1b9121e9630>"
      ]
     },
     "metadata": {},
     "output_type": "display_data"
    }
   ],
   "source": [
    "#!/usr/bin/env python\n",
    "\n",
    "import numpy as np\n",
    "#import matplotlib.mlab as mlab\n",
    "import matplotlib.pyplot as plt\n",
    "from scipy.stats import norm\n",
    "# example data\n",
    "mu = 100 # mean of distribution\n",
    "sigma = 15 # standard deviation of distribution\n",
    "x = mu + sigma * np.random.randn(10000)\n",
    "\n",
    "num_bins = 20\n",
    "# the histogram of the data\n",
    "n, bins, patches = plt.hist(x, num_bins, density=1, facecolor='blue', alpha=0.5)\n",
    "\n",
    "# add a 'best fit' line\n",
    "y = norm.pdf(bins, mu, sigma)\n",
    "plt.plot(bins, y, 'r--')\n",
    "plt.xlabel('Smarts')\n",
    "plt.ylabel('Probability')\n",
    "plt.title(r'Histogram of IQ: $\\mu=100$, $\\sigma=15$')\n",
    "\n",
    "# Tweak spacing to prevent clipping of ylabel\n",
    "plt.subplots_adjust(left=0.15)\n",
    "plt.show()"
   ]
  },
  {
   "cell_type": "code",
   "execution_count": 28,
   "metadata": {},
   "outputs": [
    {
     "data": {
      "text/plain": [
       "array([  3.58531685e-05,   7.17063369e-05,   3.94384853e-04,\n",
       "         1.23693431e-03,   2.72484080e-03,   6.25637790e-03,\n",
       "         9.51901623e-03,   1.62235587e-02,   2.12967821e-02,\n",
       "         2.54557496e-02,   2.59397674e-02,   2.31790734e-02,\n",
       "         1.95937566e-02,   1.25665355e-02,   7.40367929e-03,\n",
       "         4.19482071e-03,   2.07948377e-03,   6.63283616e-04,\n",
       "         2.33045595e-04,   1.97192427e-04])"
      ]
     },
     "execution_count": 28,
     "metadata": {},
     "output_type": "execute_result"
    }
   ],
   "source": [
    "n"
   ]
  },
  {
   "cell_type": "code",
   "execution_count": 16,
   "metadata": {},
   "outputs": [],
   "source": [
    "import pandas as pd\n",
    "import numpy as np\n",
    "df = pd.DataFrame(\n",
    "    np.random.randint(1, 7, 6000),\n",
    "    columns = ['one'])"
   ]
  },
  {
   "cell_type": "code",
   "execution_count": 4,
   "metadata": {},
   "outputs": [
    {
     "data": {
      "text/html": [
       "<div>\n",
       "<table border=\"1\" class=\"dataframe\">\n",
       "  <thead>\n",
       "    <tr style=\"text-align: right;\">\n",
       "      <th></th>\n",
       "      <th>one</th>\n",
       "    </tr>\n",
       "  </thead>\n",
       "  <tbody>\n",
       "    <tr>\n",
       "      <th>0</th>\n",
       "      <td>3</td>\n",
       "    </tr>\n",
       "    <tr>\n",
       "      <th>1</th>\n",
       "      <td>6</td>\n",
       "    </tr>\n",
       "    <tr>\n",
       "      <th>2</th>\n",
       "      <td>2</td>\n",
       "    </tr>\n",
       "    <tr>\n",
       "      <th>3</th>\n",
       "      <td>3</td>\n",
       "    </tr>\n",
       "    <tr>\n",
       "      <th>4</th>\n",
       "      <td>4</td>\n",
       "    </tr>\n",
       "    <tr>\n",
       "      <th>5</th>\n",
       "      <td>1</td>\n",
       "    </tr>\n",
       "    <tr>\n",
       "      <th>6</th>\n",
       "      <td>4</td>\n",
       "    </tr>\n",
       "    <tr>\n",
       "      <th>7</th>\n",
       "      <td>2</td>\n",
       "    </tr>\n",
       "    <tr>\n",
       "      <th>8</th>\n",
       "      <td>4</td>\n",
       "    </tr>\n",
       "    <tr>\n",
       "      <th>9</th>\n",
       "      <td>6</td>\n",
       "    </tr>\n",
       "    <tr>\n",
       "      <th>10</th>\n",
       "      <td>5</td>\n",
       "    </tr>\n",
       "    <tr>\n",
       "      <th>11</th>\n",
       "      <td>5</td>\n",
       "    </tr>\n",
       "    <tr>\n",
       "      <th>12</th>\n",
       "      <td>3</td>\n",
       "    </tr>\n",
       "    <tr>\n",
       "      <th>13</th>\n",
       "      <td>2</td>\n",
       "    </tr>\n",
       "    <tr>\n",
       "      <th>14</th>\n",
       "      <td>4</td>\n",
       "    </tr>\n",
       "    <tr>\n",
       "      <th>15</th>\n",
       "      <td>2</td>\n",
       "    </tr>\n",
       "    <tr>\n",
       "      <th>16</th>\n",
       "      <td>4</td>\n",
       "    </tr>\n",
       "    <tr>\n",
       "      <th>17</th>\n",
       "      <td>1</td>\n",
       "    </tr>\n",
       "    <tr>\n",
       "      <th>18</th>\n",
       "      <td>6</td>\n",
       "    </tr>\n",
       "    <tr>\n",
       "      <th>19</th>\n",
       "      <td>5</td>\n",
       "    </tr>\n",
       "    <tr>\n",
       "      <th>20</th>\n",
       "      <td>1</td>\n",
       "    </tr>\n",
       "    <tr>\n",
       "      <th>21</th>\n",
       "      <td>4</td>\n",
       "    </tr>\n",
       "    <tr>\n",
       "      <th>22</th>\n",
       "      <td>1</td>\n",
       "    </tr>\n",
       "    <tr>\n",
       "      <th>23</th>\n",
       "      <td>2</td>\n",
       "    </tr>\n",
       "    <tr>\n",
       "      <th>24</th>\n",
       "      <td>2</td>\n",
       "    </tr>\n",
       "    <tr>\n",
       "      <th>25</th>\n",
       "      <td>2</td>\n",
       "    </tr>\n",
       "    <tr>\n",
       "      <th>26</th>\n",
       "      <td>3</td>\n",
       "    </tr>\n",
       "    <tr>\n",
       "      <th>27</th>\n",
       "      <td>5</td>\n",
       "    </tr>\n",
       "    <tr>\n",
       "      <th>28</th>\n",
       "      <td>4</td>\n",
       "    </tr>\n",
       "    <tr>\n",
       "      <th>29</th>\n",
       "      <td>3</td>\n",
       "    </tr>\n",
       "    <tr>\n",
       "      <th>...</th>\n",
       "      <td>...</td>\n",
       "    </tr>\n",
       "    <tr>\n",
       "      <th>5970</th>\n",
       "      <td>5</td>\n",
       "    </tr>\n",
       "    <tr>\n",
       "      <th>5971</th>\n",
       "      <td>4</td>\n",
       "    </tr>\n",
       "    <tr>\n",
       "      <th>5972</th>\n",
       "      <td>5</td>\n",
       "    </tr>\n",
       "    <tr>\n",
       "      <th>5973</th>\n",
       "      <td>2</td>\n",
       "    </tr>\n",
       "    <tr>\n",
       "      <th>5974</th>\n",
       "      <td>3</td>\n",
       "    </tr>\n",
       "    <tr>\n",
       "      <th>5975</th>\n",
       "      <td>6</td>\n",
       "    </tr>\n",
       "    <tr>\n",
       "      <th>5976</th>\n",
       "      <td>3</td>\n",
       "    </tr>\n",
       "    <tr>\n",
       "      <th>5977</th>\n",
       "      <td>4</td>\n",
       "    </tr>\n",
       "    <tr>\n",
       "      <th>5978</th>\n",
       "      <td>1</td>\n",
       "    </tr>\n",
       "    <tr>\n",
       "      <th>5979</th>\n",
       "      <td>1</td>\n",
       "    </tr>\n",
       "    <tr>\n",
       "      <th>5980</th>\n",
       "      <td>5</td>\n",
       "    </tr>\n",
       "    <tr>\n",
       "      <th>5981</th>\n",
       "      <td>2</td>\n",
       "    </tr>\n",
       "    <tr>\n",
       "      <th>5982</th>\n",
       "      <td>4</td>\n",
       "    </tr>\n",
       "    <tr>\n",
       "      <th>5983</th>\n",
       "      <td>5</td>\n",
       "    </tr>\n",
       "    <tr>\n",
       "      <th>5984</th>\n",
       "      <td>5</td>\n",
       "    </tr>\n",
       "    <tr>\n",
       "      <th>5985</th>\n",
       "      <td>6</td>\n",
       "    </tr>\n",
       "    <tr>\n",
       "      <th>5986</th>\n",
       "      <td>3</td>\n",
       "    </tr>\n",
       "    <tr>\n",
       "      <th>5987</th>\n",
       "      <td>5</td>\n",
       "    </tr>\n",
       "    <tr>\n",
       "      <th>5988</th>\n",
       "      <td>6</td>\n",
       "    </tr>\n",
       "    <tr>\n",
       "      <th>5989</th>\n",
       "      <td>3</td>\n",
       "    </tr>\n",
       "    <tr>\n",
       "      <th>5990</th>\n",
       "      <td>4</td>\n",
       "    </tr>\n",
       "    <tr>\n",
       "      <th>5991</th>\n",
       "      <td>1</td>\n",
       "    </tr>\n",
       "    <tr>\n",
       "      <th>5992</th>\n",
       "      <td>1</td>\n",
       "    </tr>\n",
       "    <tr>\n",
       "      <th>5993</th>\n",
       "      <td>1</td>\n",
       "    </tr>\n",
       "    <tr>\n",
       "      <th>5994</th>\n",
       "      <td>6</td>\n",
       "    </tr>\n",
       "    <tr>\n",
       "      <th>5995</th>\n",
       "      <td>1</td>\n",
       "    </tr>\n",
       "    <tr>\n",
       "      <th>5996</th>\n",
       "      <td>3</td>\n",
       "    </tr>\n",
       "    <tr>\n",
       "      <th>5997</th>\n",
       "      <td>4</td>\n",
       "    </tr>\n",
       "    <tr>\n",
       "      <th>5998</th>\n",
       "      <td>3</td>\n",
       "    </tr>\n",
       "    <tr>\n",
       "      <th>5999</th>\n",
       "      <td>1</td>\n",
       "    </tr>\n",
       "  </tbody>\n",
       "</table>\n",
       "<p>6000 rows × 1 columns</p>\n",
       "</div>"
      ],
      "text/plain": [
       "      one\n",
       "0       3\n",
       "1       6\n",
       "2       2\n",
       "3       3\n",
       "4       4\n",
       "5       1\n",
       "6       4\n",
       "7       2\n",
       "8       4\n",
       "9       6\n",
       "10      5\n",
       "11      5\n",
       "12      3\n",
       "13      2\n",
       "14      4\n",
       "15      2\n",
       "16      4\n",
       "17      1\n",
       "18      6\n",
       "19      5\n",
       "20      1\n",
       "21      4\n",
       "22      1\n",
       "23      2\n",
       "24      2\n",
       "25      2\n",
       "26      3\n",
       "27      5\n",
       "28      4\n",
       "29      3\n",
       "...   ...\n",
       "5970    5\n",
       "5971    4\n",
       "5972    5\n",
       "5973    2\n",
       "5974    3\n",
       "5975    6\n",
       "5976    3\n",
       "5977    4\n",
       "5978    1\n",
       "5979    1\n",
       "5980    5\n",
       "5981    2\n",
       "5982    4\n",
       "5983    5\n",
       "5984    5\n",
       "5985    6\n",
       "5986    3\n",
       "5987    5\n",
       "5988    6\n",
       "5989    3\n",
       "5990    4\n",
       "5991    1\n",
       "5992    1\n",
       "5993    1\n",
       "5994    6\n",
       "5995    1\n",
       "5996    3\n",
       "5997    4\n",
       "5998    3\n",
       "5999    1\n",
       "\n",
       "[6000 rows x 1 columns]"
      ]
     },
     "execution_count": 4,
     "metadata": {},
     "output_type": "execute_result"
    }
   ],
   "source": [
    "df"
   ]
  },
  {
   "cell_type": "code",
   "execution_count": 17,
   "metadata": {},
   "outputs": [
    {
     "data": {
      "image/png": "[encoded data removed]",
      "text/plain": [
       "<matplotlib.figure.Figure at 0x1b911ee0400>"
      ]
     },
     "metadata": {},
     "output_type": "display_data"
    }
   ],
   "source": [
    "%matplotlib inline\n",
    "ax = df.plot.hist(bins=12, alpha=0.5)"
   ]
  },
  {
   "cell_type": "code",
   "execution_count": 18,
   "metadata": {},
   "outputs": [
    {
     "data": {
      "image/png": "[encoded data removed]",
      "text/plain": [
       "<matplotlib.figure.Figure at 0x1b9105cbf98>"
      ]
     },
     "metadata": {},
     "output_type": "display_data"
    }
   ],
   "source": [
    "df['two'] = df['one'] + np.random.randint(1, 7, 6000)\n",
    "ax = df.plot.hist(bins=12, alpha=0.5)\n",
    "9"
   ]
  },
  {
   "cell_type": "code",
   "execution_count": null,
   "metadata": {
    "collapsed": true
   },
   "outputs": [],
   "source": []
  }
 ],
 "metadata": {
  "kernelspec": {
   "display_name": "Python 3 (ipykernel)",
   "language": "python",
   "name": "python3"
  },
  "language_info": {
   "codemirror_mode": {
    "name": "ipython",
    "version": 3
   },
   "file_extension": ".py",
   "mimetype": "text/x-python",
   "name": "python",
   "nbconvert_exporter": "python",
   "pygments_lexer": "ipython3",
   "version": "3.10.9"
  }
 },
 "nbformat": 4,
 "nbformat_minor": 2
}
