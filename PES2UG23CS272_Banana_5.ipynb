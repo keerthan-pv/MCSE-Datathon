{
  "nbformat": 4,
  "nbformat_minor": 0,
  "metadata": {
    "colab": {
      "provenance": []
    },
    "kernelspec": {
      "name": "python3",
      "display_name": "Python 3"
    },
    "language_info": {
      "name": "python"
    }
  },
  "cells": [
    {
      "cell_type": "code",
      "source": [
        "import numpy as np\n",
        "\n",
        "def gaussian_elimination(A, b):\n",
        "    A = A.astype(float)  # Ensure floating-point division\n",
        "    b = b.astype(float)\n",
        "    n = len(b)\n",
        "\n",
        "    # Forward elimination\n",
        "    for i in range(n):\n",
        "        # Pivoting (for numerical stability)\n",
        "        max_row = i + np.argmax(abs(A[i:, i]))\n",
        "        if max_row != i:\n",
        "            A[[i, max_row]] = A[[max_row, i]]  # Swap rows\n",
        "            b[i], b[max_row] = b[max_row], b[i]\n",
        "\n",
        "        # Normalize pivot row\n",
        "        pivot = A[i, i]\n",
        "        A[i] = A[i] / pivot\n",
        "        b[i] = b[i] / pivot\n",
        "\n",
        "        # Eliminate below pivot\n",
        "        for j in range(i + 1, n):\n",
        "            factor = A[j, i]\n",
        "            A[j] -= factor * A[i]\n",
        "            b[j] -= factor * b[i]\n",
        "\n",
        "    # Back substitution\n",
        "    x = np.zeros(n)\n",
        "    for i in range(n - 1, -1, -1):\n",
        "        x[i] = b[i] - np.sum(A[i, i + 1:] * x[i + 1:])\n",
        "\n",
        "    return x\n"
      ],
      "metadata": {
        "id": "cZ1P2djZCyBy"
      },
      "execution_count": 3,
      "outputs": []
    },
    {
      "cell_type": "code",
      "source": [
        "teams = [\"Team1\", \"Team2\", \"Team3\", \"Team4\", \"Team5\",\n",
        "         \"Team6\", \"Team7\", \"Team8\", \"Team9\", \"Team10\"]\n"
      ],
      "metadata": {
        "id": "ehfeMpwrCzuQ"
      },
      "execution_count": 4,
      "outputs": []
    },
    {
      "cell_type": "code",
      "source": [
        "A = np.array([\n",
        "    [1, -0.5, 0, 0, 0, 0, 0, 0, 0, 0],\n",
        "    [-0.5, 1, -0.5, 0, 0, 0, 0, 0, 0, 0],\n",
        "    [0, -0.5, 1, -0.5, 0, 0, 0, 0, 0, 0],\n",
        "    [0, 0, -0.5, 1, -0.5, 0, 0, 0, 0, 0],\n",
        "    [0, 0, 0, -0.5, 1, -0.5, 0, 0, 0, 0],\n",
        "    [0, 0, 0, 0, -0.5, 1, -0.5, 0, 0, 0],\n",
        "    [0, 0, 0, 0, 0, -0.5, 1, -0.5, 0, 0],\n",
        "    [0, 0, 0, 0, 0, 0, -0.5, 1, -0.5, 0],\n",
        "    [0, 0, 0, 0, 0, 0, 0, -0.5, 1, -0.5],\n",
        "    [0, 0, 0, 0, 0, 0, 0, 0, -0.5, 1]\n",
        "])\n"
      ],
      "metadata": {
        "id": "DQ5fB4D9C3Ti"
      },
      "execution_count": 5,
      "outputs": []
    },
    {
      "cell_type": "code",
      "source": [
        "b = np.array([10, 5, 3, 7, 6, 8, 4, 9, 2, 1])\n"
      ],
      "metadata": {
        "id": "6cd5xEIEC6aa"
      },
      "execution_count": 6,
      "outputs": []
    },
    {
      "cell_type": "code",
      "source": [
        "rankings = gaussian_elimination(A, b)\n"
      ],
      "metadata": {
        "id": "R4YyjAQoC_jH"
      },
      "execution_count": 7,
      "outputs": []
    },
    {
      "cell_type": "code",
      "source": [
        "def display_rankings(teams, rankings):\n",
        "    sorted_teams = sorted(zip(teams, rankings), key=lambda x: -x[1])  # Sort descending\n",
        "    print(\"\\nCollege Football Team Rankings:\")\n",
        "    for i, (team, rank) in enumerate(sorted_teams, start=1):\n",
        "        print(f\"{i}. {team}: {rank:.2f}\")\n",
        "\n",
        "display_rankings(teams, rankings)\n"
      ],
      "metadata": {
        "colab": {
          "base_uri": "https://localhost:8080/"
        },
        "id": "Zy4lTKuXDCk4",
        "outputId": "3f1aed72-948c-4bf1-976c-d341d07ee3c8"
      },
      "execution_count": 8,
      "outputs": [
        {
          "output_type": "stream",
          "name": "stdout",
          "text": [
            "\n",
            "College Football Team Rankings:\n",
            "1. Team6: 175.09\n",
            "2. Team5: 174.91\n",
            "3. Team4: 162.73\n",
            "4. Team7: 159.27\n",
            "5. Team3: 136.55\n",
            "6. Team8: 135.45\n",
            "7. Team2: 104.36\n",
            "8. Team9: 93.64\n",
            "9. Team1: 62.18\n",
            "10. Team10: 47.82\n"
          ]
        }
      ]
    }
  ]
}